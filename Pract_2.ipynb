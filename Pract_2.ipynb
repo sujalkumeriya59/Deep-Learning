{
  "nbformat": 4,
  "nbformat_minor": 0,
  "metadata": {
    "colab": {
      "private_outputs": true,
      "provenance": [],
      "authorship_tag": "ABX9TyPDdEG8WWX43mgfo3IneRbe",
      "include_colab_link": true
    },
    "kernelspec": {
      "name": "python3",
      "display_name": "Python 3"
    },
    "language_info": {
      "name": "python"
    }
  },
  "cells": [
    {
      "cell_type": "markdown",
      "metadata": {
        "id": "view-in-github",
        "colab_type": "text"
      },
      "source": [
        "<a href=\"https://colab.research.google.com/github/sujalkumeriya59/Deep-Learning/blob/main/Pract_2.ipynb\" target=\"_parent\"><img src=\"https://colab.research.google.com/assets/colab-badge.svg\" alt=\"Open In Colab\"/></a>"
      ]
    },
    {
      "cell_type": "code",
      "execution_count": null,
      "metadata": {
        "id": "Dyx8Ah2FL_EL"
      },
      "outputs": [],
      "source": [
        "import numpy as np\n",
        "import random\n",
        "import matplotlib.pyplot as plt\n",
        "from sklearn.preprocessing import PolynomialFeatures\n",
        "from sklearn.linear_model import LinearRegression\n",
        "from sklearn.metrics import mean_squared_error\n",
        "\n",
        "np.random.seed(0)\n",
        "n_samples = 30\n",
        "\n",
        "true_function = lambda X: np.cos(1.5 * np.pi * X)\n",
        "x = np.sort(np.random.rand(n_samples))\n",
        "y = true_function(x) + np.random.randn(n_samples) * 0.1\n",
        "\n",
        "plt.scatter(x, y)\n",
        "\n",
        "poly1 = PolynomialFeatures(degree=1, include_bias=False)\n",
        "poly4 = PolynomialFeatures(degree=4, include_bias=False)\n",
        "poly15 = PolynomialFeatures(degree=15, include_bias=False)\n",
        "\n",
        "poly_features_1 = poly1.fit_transform(x.reshape(-1, 1))\n",
        "poly_features_4 = poly4.fit_transform(x.reshape(-1, 1))\n",
        "poly_features_15 = poly15.fit_transform(x.reshape(-1, 1))\n",
        "\n",
        "print(poly_features_1)\n",
        "\n",
        "poly_reg_model_1 = LinearRegression()\n",
        "poly_reg_model_1.fit(poly_features_1, y)\n",
        "\n",
        "poly_reg_model_4 = LinearRegression()\n",
        "poly_reg_model_4.fit(poly_features_4, y)\n",
        "\n",
        "poly_reg_model_15 = LinearRegression()\n",
        "poly_reg_model_15.fit(poly_features_15, y)\n",
        "\n",
        "y_predicted_1 = poly_reg_model_1.predict(poly_features_1)\n",
        "y_predicted_4 = poly_reg_model_4.predict(poly_features_4)\n",
        "y_predicted_15 = poly_reg_model_15.predict(poly_features_15)\n",
        "\n",
        "plt.scatter(x, y)\n",
        "plt.plot(x, y_predicted_1, color='red')\n",
        "print(f\"MSE when Degree = 1: {mean_squared_error(y, y_predicted_1)}\")\n",
        "\n",
        "plt.scatter(x, y)\n",
        "plt.plot(x, y_predicted_4, color='black')\n",
        "print(f\"MSE when Degree = 4: {mean_squared_error(y, y_predicted_4)}\")\n",
        "\n",
        "plt.scatter(x, y)\n",
        "plt.plot(x, y_predicted_15, color='purple')\n",
        "print(f\"MSE when Degree = 15: {mean_squared_error(y, y_predicted_15)}\")"
      ]
    }
  ]
}