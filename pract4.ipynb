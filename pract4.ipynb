{
  "nbformat": 4,
  "nbformat_minor": 0,
  "metadata": {
    "colab": {
      "private_outputs": true,
      "provenance": [],
      "authorship_tag": "ABX9TyNOG9+m/c6o1fYXBgLtUf2V",
      "include_colab_link": true
    },
    "kernelspec": {
      "name": "python3",
      "display_name": "Python 3"
    },
    "language_info": {
      "name": "python"
    }
  },
  "cells": [
    {
      "cell_type": "markdown",
      "metadata": {
        "id": "view-in-github",
        "colab_type": "text"
      },
      "source": [
        "<a href=\"https://colab.research.google.com/github/sujalkumeriya59/Deep-Learning/blob/main/pract4.ipynb\" target=\"_parent\"><img src=\"https://colab.research.google.com/assets/colab-badge.svg\" alt=\"Open In Colab\"/></a>"
      ]
    },
    {
      "cell_type": "code",
      "execution_count": null,
      "metadata": {
        "id": "fxrHJzRg6rJY"
      },
      "outputs": [],
      "source": [
        "# Import necessary libraries\n",
        "import tensorflow as tf\n",
        "from tensorflow.keras.datasets import mnist\n",
        "from tensorflow.keras.models import Sequential\n",
        "from tensorflow.keras.layers import Dense, Flatten\n",
        "from tensorflow.keras.utils import to_categorical"
      ]
    },
    {
      "cell_type": "code",
      "source": [
        "# Load the MNIST dataset\n",
        "from tensorflow.keras.datasets import mnist\n",
        "(x_train, y_train), (x_test, y_test) = mnist.load_data()"
      ],
      "metadata": {
        "id": "7Lbg4R8I7oH2"
      },
      "execution_count": null,
      "outputs": []
    },
    {
      "cell_type": "code",
      "source": [
        "import pandas as pd\n",
        "import numpy as np\n",
        "\n",
        "# Combine the training and test data\n",
        "all_images = np.concatenate((x_train, x_test), axis=0)\n",
        "all_labels = np.concatenate((y_train, y_test), axis=0)\n",
        "\n",
        "# Reshape the images to be flat (28*28 = 784 features)\n",
        "all_images_flat = all_images.reshape(all_images.shape[0], -1)\n",
        "\n",
        "# Create a DataFrame\n",
        "df = pd.DataFrame(all_images_flat)\n",
        "df['label'] = all_labels\n",
        "\n",
        "# Save the DataFrame to a CSV file\n",
        "df.to_csv('mnist_dataset.csv', index=False)\n",
        "\n",
        "print(\"MNIST dataset saved to mnist_dataset.csv\")"
      ],
      "metadata": {
        "id": "ClN6zXG3-8jW"
      },
      "execution_count": null,
      "outputs": []
    },
    {
      "cell_type": "code",
      "source": [
        "# Normalize the image data to [0, 1] range\n",
        "x_train = x_train / 255.0\n",
        "x_test = x_test / 255.0\n",
        "\n",
        "# One-hot encode the labels (e.g., 5 → [0 0 0 0 0 1 0 0 0 0])\n",
        "from tensorflow.keras.utils import to_categorical\n",
        "y_train = to_categorical(y_train, 10)\n",
        "y_test = to_categorical(y_test, 10)"
      ],
      "metadata": {
        "id": "ibrbgg8d9_MW"
      },
      "execution_count": null,
      "outputs": []
    },
    {
      "cell_type": "code",
      "source": [
        "# Build a simple neural network\n",
        "from tensorflow.keras.models import Sequential\n",
        "from tensorflow.keras.layers import Flatten, Dense\n",
        "import tensorflow as tf\n",
        "\n",
        "# Clear any previous model state\n",
        "tf.keras.backend.clear_session()\n",
        "\n",
        "model = Sequential([\n",
        "    Flatten(input_shape=(28, 28)),      # Input layer (flatten 28x28 images)\n",
        "    Dense(128, activation='relu'),      # Hidden layer with 128 neurons and ReLU\n",
        "    Dense(64, activation='relu'),       # Hidden layer with 64 neurons\n",
        "    Dense(10, activation='softmax')     # Output layer with 10 neurons (0-9 digits)\n",
        "])"
      ],
      "metadata": {
        "id": "oACE4-b39_eO"
      },
      "execution_count": null,
      "outputs": []
    },
    {
      "cell_type": "code",
      "source": [
        "# Compile the model\n",
        "model.compile(\n",
        "    optimizer='adam',\n",
        "    loss='categorical_crossentropy',\n",
        "    metrics=['accuracy']\n",
        ")"
      ],
      "metadata": {
        "id": "kkJLMX-L9_hm"
      },
      "execution_count": null,
      "outputs": []
    },
    {
      "cell_type": "code",
      "source": [
        "# Compile the model\n",
        "model.compile(\n",
        "    optimizer='adam',\n",
        "    loss='categorical_crossentropy',\n",
        "    metrics=['accuracy']\n",
        ")\n",
        "\n",
        "# Train the model\n",
        "model.fit(x_train, y_train, epochs=5, batch_size=32, validation_split=0.1)\n",
        "\n",
        "# Evaluate the model on test data\n",
        "test_loss, test_accuracy = model.evaluate(x_test, y_test)\n",
        "print(f\"\\nTest Accuracy: {test_accuracy:.4f}\")\n",
        "\n",
        "# Predicting a sample image\n",
        "import numpy as np\n",
        "import matplotlib.pyplot as plt"
      ],
      "metadata": {
        "id": "K8KznE9V7o7m"
      },
      "execution_count": null,
      "outputs": []
    },
    {
      "cell_type": "code",
      "source": [
        "# Predicting a sample image\n",
        "import numpy as np\n",
        "import matplotlib.pyplot as plt\n",
        "\n",
        "# Pick a random test image\n",
        "index = np.random.randint(0, len(x_test))\n",
        "sample_image = x_test[index]\n",
        "\n",
        "# Show the image\n",
        "plt.imshow(sample_image, cmap='gray')\n",
        "plt.title(\"Sample Test Image\")\n",
        "plt.show()\n",
        "\n",
        "# Predict the digit\n",
        "prediction = model.predict(np.expand_dims(sample_image, axis=0))\n",
        "predicted_class = np.argmax(prediction)\n",
        "\n",
        "print(f\"Predicted Digit: {predicted_class}\")\n",
        "\n",
        "# Visualize the first 25 test images with predictions\n",
        "plt.figure(figsize=(10, 10))\n",
        "for i in range(25):\n",
        "    plt.subplot(5, 5, i + 1)\n",
        "    plt.imshow(x_test[i], cmap='gray')\n",
        "    prediction = model.predict(np.expand_dims(x_test[i], axis=0))\n",
        "    predicted_label = np.argmax(prediction)\n",
        "    true_label = np.argmax(y_test[i])\n",
        "    plt.title(f\"Pred: {predicted_label}, True: {true_label}\")\n",
        "    plt.axis('off')\n",
        "plt.show()"
      ],
      "metadata": {
        "id": "IwV-1Qb27o_W"
      },
      "execution_count": null,
      "outputs": []
    },
    {
      "cell_type": "code",
      "source": [],
      "metadata": {
        "id": "uP1E35887pCe"
      },
      "execution_count": null,
      "outputs": []
    },
    {
      "cell_type": "code",
      "source": [],
      "metadata": {
        "id": "f6YagRme7pFP"
      },
      "execution_count": null,
      "outputs": []
    },
    {
      "cell_type": "code",
      "source": [],
      "metadata": {
        "id": "Kd1vbNhU7pIX"
      },
      "execution_count": null,
      "outputs": []
    },
    {
      "cell_type": "code",
      "source": [],
      "metadata": {
        "id": "TjrKtOBM7pLW"
      },
      "execution_count": null,
      "outputs": []
    },
    {
      "cell_type": "code",
      "source": [],
      "metadata": {
        "id": "mjqvMxTX7pOO"
      },
      "execution_count": null,
      "outputs": []
    },
    {
      "cell_type": "code",
      "source": [],
      "metadata": {
        "id": "GAGdPAcu7pVG"
      },
      "execution_count": null,
      "outputs": []
    }
  ]
}